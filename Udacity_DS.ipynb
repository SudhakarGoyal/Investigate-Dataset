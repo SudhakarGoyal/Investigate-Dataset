{
 "cells": [
  {
   "cell_type": "markdown",
   "id": "3020b2be",
   "metadata": {},
   "source": [
    "## Introduction\n",
    "\n",
    "\n",
    "\n",
    "**In this python notebook, we will discuss and analyse the data for show / no show appointment i.e what features can help understand the patients would show up or not We will explore the following**\n",
    "\n",
    "1. Data Wrangling\n",
    "    - get the basic understanding of the data, modify / remove some columns, map some categorical variables \n",
    "2. Exploratory Data Analysis\n",
    "    - In this section, we will basically answer 2 main questions simultaneously by analysing the data, estimating probability and plotting graphs \n",
    "        - Which features might be responsible for Show / No Show Cause\n",
    "        - What is the probability for these features for Show / No Show Cause\n",
    "3. Conclusion\n",
    "    - We would concluse our findings about the data and mention some of the constraints and limitations being made while the exploration of data \n",
    "\n"
   ]
  },
  {
   "cell_type": "markdown",
   "id": "66886082",
   "metadata": {},
   "source": [
    "## PART I: Data Wrangling\n",
    "Here we are going to import the releavent libraries and, read the csv file and try to understand the data i.e \n",
    "- understand what columns are there\n",
    "- see if there are any NULL or NA values\n",
    "- see basic statistical properties related to the data\n",
    "- change the columns as per requirement \n",
    "- map categorical columns into quantitative values"
   ]
  },
  {
   "cell_type": "markdown",
   "id": "77e07b4f",
   "metadata": {},
   "source": [
    "#### import the libraries"
   ]
  },
  {
   "cell_type": "code",
   "execution_count": 198,
   "id": "f6beb081",
   "metadata": {},
   "outputs": [],
   "source": [
    "import pandas as pd\n",
    "import numpy as np\n",
    "import matplotlib.pyplot as plt\n",
    "import seaborn as sns\n"
   ]
  },
  {
   "cell_type": "markdown",
   "id": "844dcaca",
   "metadata": {},
   "source": [
    "#### read the csv file"
   ]
  },
  {
   "cell_type": "code",
   "execution_count": 199,
   "id": "f80702cb",
   "metadata": {},
   "outputs": [],
   "source": [
    "file = pd.read_csv(\"/Users/sudhakargoyal/Downloads/noshowappointments-kagglev2-may-2016.csv\")"
   ]
  },
  {
   "cell_type": "markdown",
   "id": "33bc1221",
   "metadata": {},
   "source": [
    "###### take a look at the first 5 rows of the dataset to figure out how the data looks like"
   ]
  },
  {
   "cell_type": "code",
   "execution_count": 200,
   "id": "2e8515ee",
   "metadata": {
    "scrolled": true
   },
   "outputs": [
    {
     "data": {
      "text/html": [
       "<div>\n",
       "<style scoped>\n",
       "    .dataframe tbody tr th:only-of-type {\n",
       "        vertical-align: middle;\n",
       "    }\n",
       "\n",
       "    .dataframe tbody tr th {\n",
       "        vertical-align: top;\n",
       "    }\n",
       "\n",
       "    .dataframe thead th {\n",
       "        text-align: right;\n",
       "    }\n",
       "</style>\n",
       "<table border=\"1\" class=\"dataframe\">\n",
       "  <thead>\n",
       "    <tr style=\"text-align: right;\">\n",
       "      <th></th>\n",
       "      <th>PatientId</th>\n",
       "      <th>AppointmentID</th>\n",
       "      <th>Gender</th>\n",
       "      <th>ScheduledDay</th>\n",
       "      <th>AppointmentDay</th>\n",
       "      <th>Age</th>\n",
       "      <th>Neighbourhood</th>\n",
       "      <th>Scholarship</th>\n",
       "      <th>Hipertension</th>\n",
       "      <th>Diabetes</th>\n",
       "      <th>Alcoholism</th>\n",
       "      <th>Handcap</th>\n",
       "      <th>SMS_received</th>\n",
       "      <th>No-show</th>\n",
       "    </tr>\n",
       "  </thead>\n",
       "  <tbody>\n",
       "    <tr>\n",
       "      <th>0</th>\n",
       "      <td>2.987250e+13</td>\n",
       "      <td>5642903</td>\n",
       "      <td>F</td>\n",
       "      <td>2016-04-29T18:38:08Z</td>\n",
       "      <td>2016-04-29T00:00:00Z</td>\n",
       "      <td>62</td>\n",
       "      <td>JARDIM DA PENHA</td>\n",
       "      <td>0</td>\n",
       "      <td>1</td>\n",
       "      <td>0</td>\n",
       "      <td>0</td>\n",
       "      <td>0</td>\n",
       "      <td>0</td>\n",
       "      <td>No</td>\n",
       "    </tr>\n",
       "    <tr>\n",
       "      <th>1</th>\n",
       "      <td>5.589978e+14</td>\n",
       "      <td>5642503</td>\n",
       "      <td>M</td>\n",
       "      <td>2016-04-29T16:08:27Z</td>\n",
       "      <td>2016-04-29T00:00:00Z</td>\n",
       "      <td>56</td>\n",
       "      <td>JARDIM DA PENHA</td>\n",
       "      <td>0</td>\n",
       "      <td>0</td>\n",
       "      <td>0</td>\n",
       "      <td>0</td>\n",
       "      <td>0</td>\n",
       "      <td>0</td>\n",
       "      <td>No</td>\n",
       "    </tr>\n",
       "    <tr>\n",
       "      <th>2</th>\n",
       "      <td>4.262962e+12</td>\n",
       "      <td>5642549</td>\n",
       "      <td>F</td>\n",
       "      <td>2016-04-29T16:19:04Z</td>\n",
       "      <td>2016-04-29T00:00:00Z</td>\n",
       "      <td>62</td>\n",
       "      <td>MATA DA PRAIA</td>\n",
       "      <td>0</td>\n",
       "      <td>0</td>\n",
       "      <td>0</td>\n",
       "      <td>0</td>\n",
       "      <td>0</td>\n",
       "      <td>0</td>\n",
       "      <td>No</td>\n",
       "    </tr>\n",
       "    <tr>\n",
       "      <th>3</th>\n",
       "      <td>8.679512e+11</td>\n",
       "      <td>5642828</td>\n",
       "      <td>F</td>\n",
       "      <td>2016-04-29T17:29:31Z</td>\n",
       "      <td>2016-04-29T00:00:00Z</td>\n",
       "      <td>8</td>\n",
       "      <td>PONTAL DE CAMBURI</td>\n",
       "      <td>0</td>\n",
       "      <td>0</td>\n",
       "      <td>0</td>\n",
       "      <td>0</td>\n",
       "      <td>0</td>\n",
       "      <td>0</td>\n",
       "      <td>No</td>\n",
       "    </tr>\n",
       "    <tr>\n",
       "      <th>4</th>\n",
       "      <td>8.841186e+12</td>\n",
       "      <td>5642494</td>\n",
       "      <td>F</td>\n",
       "      <td>2016-04-29T16:07:23Z</td>\n",
       "      <td>2016-04-29T00:00:00Z</td>\n",
       "      <td>56</td>\n",
       "      <td>JARDIM DA PENHA</td>\n",
       "      <td>0</td>\n",
       "      <td>1</td>\n",
       "      <td>1</td>\n",
       "      <td>0</td>\n",
       "      <td>0</td>\n",
       "      <td>0</td>\n",
       "      <td>No</td>\n",
       "    </tr>\n",
       "  </tbody>\n",
       "</table>\n",
       "</div>"
      ],
      "text/plain": [
       "      PatientId  AppointmentID Gender          ScheduledDay  \\\n",
       "0  2.987250e+13        5642903      F  2016-04-29T18:38:08Z   \n",
       "1  5.589978e+14        5642503      M  2016-04-29T16:08:27Z   \n",
       "2  4.262962e+12        5642549      F  2016-04-29T16:19:04Z   \n",
       "3  8.679512e+11        5642828      F  2016-04-29T17:29:31Z   \n",
       "4  8.841186e+12        5642494      F  2016-04-29T16:07:23Z   \n",
       "\n",
       "         AppointmentDay  Age      Neighbourhood  Scholarship  Hipertension  \\\n",
       "0  2016-04-29T00:00:00Z   62    JARDIM DA PENHA            0             1   \n",
       "1  2016-04-29T00:00:00Z   56    JARDIM DA PENHA            0             0   \n",
       "2  2016-04-29T00:00:00Z   62      MATA DA PRAIA            0             0   \n",
       "3  2016-04-29T00:00:00Z    8  PONTAL DE CAMBURI            0             0   \n",
       "4  2016-04-29T00:00:00Z   56    JARDIM DA PENHA            0             1   \n",
       "\n",
       "   Diabetes  Alcoholism  Handcap  SMS_received No-show  \n",
       "0         0           0        0             0      No  \n",
       "1         0           0        0             0      No  \n",
       "2         0           0        0             0      No  \n",
       "3         0           0        0             0      No  \n",
       "4         1           0        0             0      No  "
      ]
     },
     "execution_count": 200,
     "metadata": {},
     "output_type": "execute_result"
    }
   ],
   "source": [
    "file.head(5)"
   ]
  },
  {
   "cell_type": "markdown",
   "id": "ce91a3fe",
   "metadata": {},
   "source": [
    "##### looking a some basic statistical properties related to the data "
   ]
  },
  {
   "cell_type": "code",
   "execution_count": 201,
   "id": "f2af645e",
   "metadata": {},
   "outputs": [
    {
     "data": {
      "text/html": [
       "<div>\n",
       "<style scoped>\n",
       "    .dataframe tbody tr th:only-of-type {\n",
       "        vertical-align: middle;\n",
       "    }\n",
       "\n",
       "    .dataframe tbody tr th {\n",
       "        vertical-align: top;\n",
       "    }\n",
       "\n",
       "    .dataframe thead th {\n",
       "        text-align: right;\n",
       "    }\n",
       "</style>\n",
       "<table border=\"1\" class=\"dataframe\">\n",
       "  <thead>\n",
       "    <tr style=\"text-align: right;\">\n",
       "      <th></th>\n",
       "      <th>PatientId</th>\n",
       "      <th>AppointmentID</th>\n",
       "      <th>Age</th>\n",
       "      <th>Scholarship</th>\n",
       "      <th>Hipertension</th>\n",
       "      <th>Diabetes</th>\n",
       "      <th>Alcoholism</th>\n",
       "      <th>Handcap</th>\n",
       "      <th>SMS_received</th>\n",
       "    </tr>\n",
       "  </thead>\n",
       "  <tbody>\n",
       "    <tr>\n",
       "      <th>count</th>\n",
       "      <td>1.105270e+05</td>\n",
       "      <td>1.105270e+05</td>\n",
       "      <td>110527.000000</td>\n",
       "      <td>110527.000000</td>\n",
       "      <td>110527.000000</td>\n",
       "      <td>110527.000000</td>\n",
       "      <td>110527.000000</td>\n",
       "      <td>110527.000000</td>\n",
       "      <td>110527.000000</td>\n",
       "    </tr>\n",
       "    <tr>\n",
       "      <th>mean</th>\n",
       "      <td>1.474963e+14</td>\n",
       "      <td>5.675305e+06</td>\n",
       "      <td>37.088874</td>\n",
       "      <td>0.098266</td>\n",
       "      <td>0.197246</td>\n",
       "      <td>0.071865</td>\n",
       "      <td>0.030400</td>\n",
       "      <td>0.022248</td>\n",
       "      <td>0.321026</td>\n",
       "    </tr>\n",
       "    <tr>\n",
       "      <th>std</th>\n",
       "      <td>2.560949e+14</td>\n",
       "      <td>7.129575e+04</td>\n",
       "      <td>23.110205</td>\n",
       "      <td>0.297675</td>\n",
       "      <td>0.397921</td>\n",
       "      <td>0.258265</td>\n",
       "      <td>0.171686</td>\n",
       "      <td>0.161543</td>\n",
       "      <td>0.466873</td>\n",
       "    </tr>\n",
       "    <tr>\n",
       "      <th>min</th>\n",
       "      <td>3.921784e+04</td>\n",
       "      <td>5.030230e+06</td>\n",
       "      <td>-1.000000</td>\n",
       "      <td>0.000000</td>\n",
       "      <td>0.000000</td>\n",
       "      <td>0.000000</td>\n",
       "      <td>0.000000</td>\n",
       "      <td>0.000000</td>\n",
       "      <td>0.000000</td>\n",
       "    </tr>\n",
       "    <tr>\n",
       "      <th>25%</th>\n",
       "      <td>4.172614e+12</td>\n",
       "      <td>5.640286e+06</td>\n",
       "      <td>18.000000</td>\n",
       "      <td>0.000000</td>\n",
       "      <td>0.000000</td>\n",
       "      <td>0.000000</td>\n",
       "      <td>0.000000</td>\n",
       "      <td>0.000000</td>\n",
       "      <td>0.000000</td>\n",
       "    </tr>\n",
       "    <tr>\n",
       "      <th>50%</th>\n",
       "      <td>3.173184e+13</td>\n",
       "      <td>5.680573e+06</td>\n",
       "      <td>37.000000</td>\n",
       "      <td>0.000000</td>\n",
       "      <td>0.000000</td>\n",
       "      <td>0.000000</td>\n",
       "      <td>0.000000</td>\n",
       "      <td>0.000000</td>\n",
       "      <td>0.000000</td>\n",
       "    </tr>\n",
       "    <tr>\n",
       "      <th>75%</th>\n",
       "      <td>9.439172e+13</td>\n",
       "      <td>5.725524e+06</td>\n",
       "      <td>55.000000</td>\n",
       "      <td>0.000000</td>\n",
       "      <td>0.000000</td>\n",
       "      <td>0.000000</td>\n",
       "      <td>0.000000</td>\n",
       "      <td>0.000000</td>\n",
       "      <td>1.000000</td>\n",
       "    </tr>\n",
       "    <tr>\n",
       "      <th>max</th>\n",
       "      <td>9.999816e+14</td>\n",
       "      <td>5.790484e+06</td>\n",
       "      <td>115.000000</td>\n",
       "      <td>1.000000</td>\n",
       "      <td>1.000000</td>\n",
       "      <td>1.000000</td>\n",
       "      <td>1.000000</td>\n",
       "      <td>4.000000</td>\n",
       "      <td>1.000000</td>\n",
       "    </tr>\n",
       "  </tbody>\n",
       "</table>\n",
       "</div>"
      ],
      "text/plain": [
       "          PatientId  AppointmentID            Age    Scholarship  \\\n",
       "count  1.105270e+05   1.105270e+05  110527.000000  110527.000000   \n",
       "mean   1.474963e+14   5.675305e+06      37.088874       0.098266   \n",
       "std    2.560949e+14   7.129575e+04      23.110205       0.297675   \n",
       "min    3.921784e+04   5.030230e+06      -1.000000       0.000000   \n",
       "25%    4.172614e+12   5.640286e+06      18.000000       0.000000   \n",
       "50%    3.173184e+13   5.680573e+06      37.000000       0.000000   \n",
       "75%    9.439172e+13   5.725524e+06      55.000000       0.000000   \n",
       "max    9.999816e+14   5.790484e+06     115.000000       1.000000   \n",
       "\n",
       "        Hipertension       Diabetes     Alcoholism        Handcap  \\\n",
       "count  110527.000000  110527.000000  110527.000000  110527.000000   \n",
       "mean        0.197246       0.071865       0.030400       0.022248   \n",
       "std         0.397921       0.258265       0.171686       0.161543   \n",
       "min         0.000000       0.000000       0.000000       0.000000   \n",
       "25%         0.000000       0.000000       0.000000       0.000000   \n",
       "50%         0.000000       0.000000       0.000000       0.000000   \n",
       "75%         0.000000       0.000000       0.000000       0.000000   \n",
       "max         1.000000       1.000000       1.000000       4.000000   \n",
       "\n",
       "        SMS_received  \n",
       "count  110527.000000  \n",
       "mean        0.321026  \n",
       "std         0.466873  \n",
       "min         0.000000  \n",
       "25%         0.000000  \n",
       "50%         0.000000  \n",
       "75%         1.000000  \n",
       "max         1.000000  "
      ]
     },
     "execution_count": 201,
     "metadata": {},
     "output_type": "execute_result"
    }
   ],
   "source": [
    "file.describe()"
   ]
  },
  {
   "cell_type": "code",
   "execution_count": 202,
   "id": "9f1e4c1e",
   "metadata": {},
   "outputs": [
    {
     "name": "stdout",
     "output_type": "stream",
     "text": [
      "<class 'pandas.core.frame.DataFrame'>\n",
      "RangeIndex: 110527 entries, 0 to 110526\n",
      "Data columns (total 14 columns):\n",
      " #   Column          Non-Null Count   Dtype  \n",
      "---  ------          --------------   -----  \n",
      " 0   PatientId       110527 non-null  float64\n",
      " 1   AppointmentID   110527 non-null  int64  \n",
      " 2   Gender          110527 non-null  object \n",
      " 3   ScheduledDay    110527 non-null  object \n",
      " 4   AppointmentDay  110527 non-null  object \n",
      " 5   Age             110527 non-null  int64  \n",
      " 6   Neighbourhood   110527 non-null  object \n",
      " 7   Scholarship     110527 non-null  int64  \n",
      " 8   Hipertension    110527 non-null  int64  \n",
      " 9   Diabetes        110527 non-null  int64  \n",
      " 10  Alcoholism      110527 non-null  int64  \n",
      " 11  Handcap         110527 non-null  int64  \n",
      " 12  SMS_received    110527 non-null  int64  \n",
      " 13  No-show         110527 non-null  object \n",
      "dtypes: float64(1), int64(8), object(5)\n",
      "memory usage: 11.8+ MB\n"
     ]
    }
   ],
   "source": [
    "file.info()    # checking the information of the read data i.e checking what columns \n",
    "              # are there along with the data types and the amount of data"
   ]
  },
  {
   "cell_type": "code",
   "execution_count": 203,
   "id": "a9174da8",
   "metadata": {},
   "outputs": [
    {
     "data": {
      "text/plain": [
       "(110527, 14)"
      ]
     },
     "execution_count": 203,
     "metadata": {},
     "output_type": "execute_result"
    }
   ],
   "source": [
    "file.shape     # shape of the data -> rows x columns"
   ]
  },
  {
   "cell_type": "markdown",
   "id": "96ac2a6b",
   "metadata": {},
   "source": [
    "#### check if there is null / NA data"
   ]
  },
  {
   "cell_type": "code",
   "execution_count": 204,
   "id": "14578cfa",
   "metadata": {},
   "outputs": [
    {
     "data": {
      "text/plain": [
       "PatientId         0\n",
       "AppointmentID     0\n",
       "Gender            0\n",
       "ScheduledDay      0\n",
       "AppointmentDay    0\n",
       "Age               0\n",
       "Neighbourhood     0\n",
       "Scholarship       0\n",
       "Hipertension      0\n",
       "Diabetes          0\n",
       "Alcoholism        0\n",
       "Handcap           0\n",
       "SMS_received      0\n",
       "No-show           0\n",
       "dtype: int64"
      ]
     },
     "execution_count": 204,
     "metadata": {},
     "output_type": "execute_result"
    }
   ],
   "source": [
    "file.isna().sum()"
   ]
  },
  {
   "cell_type": "code",
   "execution_count": 205,
   "id": "a8b69e53",
   "metadata": {
    "scrolled": true
   },
   "outputs": [
    {
     "data": {
      "text/plain": [
       "PatientId         0\n",
       "AppointmentID     0\n",
       "Gender            0\n",
       "ScheduledDay      0\n",
       "AppointmentDay    0\n",
       "Age               0\n",
       "Neighbourhood     0\n",
       "Scholarship       0\n",
       "Hipertension      0\n",
       "Diabetes          0\n",
       "Alcoholism        0\n",
       "Handcap           0\n",
       "SMS_received      0\n",
       "No-show           0\n",
       "dtype: int64"
      ]
     },
     "execution_count": 205,
     "metadata": {},
     "output_type": "execute_result"
    }
   ],
   "source": [
    "file.isnull().sum()"
   ]
  },
  {
   "cell_type": "markdown",
   "id": "91787223",
   "metadata": {},
   "source": [
    "#### creating a new file so as do the operations on the same and keeping the original file intact "
   ]
  },
  {
   "cell_type": "code",
   "execution_count": 206,
   "id": "983957b0",
   "metadata": {},
   "outputs": [],
   "source": [
    "file_new = file.copy()\n"
   ]
  },
  {
   "cell_type": "code",
   "execution_count": 207,
   "id": "d99dc87d",
   "metadata": {},
   "outputs": [],
   "source": [
    "file_new = file_new.drop([\"PatientId\", \"AppointmentID\"], axis=1)  \n",
    "# dropping 2 columns -> Patient ID and Appointment ID as these are not playing any role in understanding the\n",
    "# data in depth. THese are just incremental numbers"
   ]
  },
  {
   "cell_type": "markdown",
   "id": "3eb505a5",
   "metadata": {},
   "source": [
    "##### We will map some of the categorical columns here\n",
    "- status -> No takes value 0 and Yes becomes 1\n",
    "- Gender -> Male is represented by 0 and Female by 1\n",
    "- Neighbourhood -> different cities would be represented by different numbers based on the numbers of cities present"
   ]
  },
  {
   "cell_type": "code",
   "execution_count": 208,
   "id": "bea09801",
   "metadata": {},
   "outputs": [],
   "source": [
    "status = {\"No\":0, \"Yes\":1}\n",
    "file_new.columns\n",
    "status_gender = {\"M\":0, \"F\":1}"
   ]
  },
  {
   "cell_type": "code",
   "execution_count": 209,
   "id": "72450f99",
   "metadata": {},
   "outputs": [],
   "source": [
    "neighbors = file_new.Neighbourhood.unique()    # find the number of unique neighbourhood cities\n",
    "neighbor_status = {}                           # dictioanry to store the same\n",
    "for i, j in enumerate((neighbors)):\n",
    "    neighbor_status[j] = i\n",
    "#neighbor_status\n"
   ]
  },
  {
   "cell_type": "markdown",
   "id": "eab3b60a",
   "metadata": {},
   "source": [
    "##### mapping each column based on the map status we have set in the above cells"
   ]
  },
  {
   "cell_type": "code",
   "execution_count": 210,
   "id": "173f5ac2",
   "metadata": {},
   "outputs": [],
   "source": [
    "file_new[\"No-show\"] = file_new[\"No-show\"].map(status)    # mapping no Show column\n",
    "file_new.Gender = file_new.Gender.map(status_gender)     # mapping Gender \n",
    "file_new.Neighbourhood = file_new.Neighbourhood.map(neighbor_status)   # mapping Neighbourhood"
   ]
  },
  {
   "cell_type": "code",
   "execution_count": 211,
   "id": "e3840a74",
   "metadata": {},
   "outputs": [
    {
     "data": {
      "text/html": [
       "<div>\n",
       "<style scoped>\n",
       "    .dataframe tbody tr th:only-of-type {\n",
       "        vertical-align: middle;\n",
       "    }\n",
       "\n",
       "    .dataframe tbody tr th {\n",
       "        vertical-align: top;\n",
       "    }\n",
       "\n",
       "    .dataframe thead th {\n",
       "        text-align: right;\n",
       "    }\n",
       "</style>\n",
       "<table border=\"1\" class=\"dataframe\">\n",
       "  <thead>\n",
       "    <tr style=\"text-align: right;\">\n",
       "      <th></th>\n",
       "      <th>Gender</th>\n",
       "      <th>ScheduledDay</th>\n",
       "      <th>AppointmentDay</th>\n",
       "      <th>Age</th>\n",
       "      <th>Neighbourhood</th>\n",
       "      <th>Scholarship</th>\n",
       "      <th>Hipertension</th>\n",
       "      <th>Diabetes</th>\n",
       "      <th>Alcoholism</th>\n",
       "      <th>Handcap</th>\n",
       "      <th>SMS_received</th>\n",
       "      <th>No-show</th>\n",
       "    </tr>\n",
       "  </thead>\n",
       "  <tbody>\n",
       "    <tr>\n",
       "      <th>0</th>\n",
       "      <td>1</td>\n",
       "      <td>2016-04-29T18:38:08Z</td>\n",
       "      <td>2016-04-29T00:00:00Z</td>\n",
       "      <td>62</td>\n",
       "      <td>0</td>\n",
       "      <td>0</td>\n",
       "      <td>1</td>\n",
       "      <td>0</td>\n",
       "      <td>0</td>\n",
       "      <td>0</td>\n",
       "      <td>0</td>\n",
       "      <td>0</td>\n",
       "    </tr>\n",
       "    <tr>\n",
       "      <th>1</th>\n",
       "      <td>0</td>\n",
       "      <td>2016-04-29T16:08:27Z</td>\n",
       "      <td>2016-04-29T00:00:00Z</td>\n",
       "      <td>56</td>\n",
       "      <td>0</td>\n",
       "      <td>0</td>\n",
       "      <td>0</td>\n",
       "      <td>0</td>\n",
       "      <td>0</td>\n",
       "      <td>0</td>\n",
       "      <td>0</td>\n",
       "      <td>0</td>\n",
       "    </tr>\n",
       "    <tr>\n",
       "      <th>2</th>\n",
       "      <td>1</td>\n",
       "      <td>2016-04-29T16:19:04Z</td>\n",
       "      <td>2016-04-29T00:00:00Z</td>\n",
       "      <td>62</td>\n",
       "      <td>1</td>\n",
       "      <td>0</td>\n",
       "      <td>0</td>\n",
       "      <td>0</td>\n",
       "      <td>0</td>\n",
       "      <td>0</td>\n",
       "      <td>0</td>\n",
       "      <td>0</td>\n",
       "    </tr>\n",
       "    <tr>\n",
       "      <th>3</th>\n",
       "      <td>1</td>\n",
       "      <td>2016-04-29T17:29:31Z</td>\n",
       "      <td>2016-04-29T00:00:00Z</td>\n",
       "      <td>8</td>\n",
       "      <td>2</td>\n",
       "      <td>0</td>\n",
       "      <td>0</td>\n",
       "      <td>0</td>\n",
       "      <td>0</td>\n",
       "      <td>0</td>\n",
       "      <td>0</td>\n",
       "      <td>0</td>\n",
       "    </tr>\n",
       "    <tr>\n",
       "      <th>4</th>\n",
       "      <td>1</td>\n",
       "      <td>2016-04-29T16:07:23Z</td>\n",
       "      <td>2016-04-29T00:00:00Z</td>\n",
       "      <td>56</td>\n",
       "      <td>0</td>\n",
       "      <td>0</td>\n",
       "      <td>1</td>\n",
       "      <td>1</td>\n",
       "      <td>0</td>\n",
       "      <td>0</td>\n",
       "      <td>0</td>\n",
       "      <td>0</td>\n",
       "    </tr>\n",
       "  </tbody>\n",
       "</table>\n",
       "</div>"
      ],
      "text/plain": [
       "   Gender          ScheduledDay        AppointmentDay  Age  Neighbourhood  \\\n",
       "0       1  2016-04-29T18:38:08Z  2016-04-29T00:00:00Z   62              0   \n",
       "1       0  2016-04-29T16:08:27Z  2016-04-29T00:00:00Z   56              0   \n",
       "2       1  2016-04-29T16:19:04Z  2016-04-29T00:00:00Z   62              1   \n",
       "3       1  2016-04-29T17:29:31Z  2016-04-29T00:00:00Z    8              2   \n",
       "4       1  2016-04-29T16:07:23Z  2016-04-29T00:00:00Z   56              0   \n",
       "\n",
       "   Scholarship  Hipertension  Diabetes  Alcoholism  Handcap  SMS_received  \\\n",
       "0            0             1         0           0        0             0   \n",
       "1            0             0         0           0        0             0   \n",
       "2            0             0         0           0        0             0   \n",
       "3            0             0         0           0        0             0   \n",
       "4            0             1         1           0        0             0   \n",
       "\n",
       "   No-show  \n",
       "0        0  \n",
       "1        0  \n",
       "2        0  \n",
       "3        0  \n",
       "4        0  "
      ]
     },
     "execution_count": 211,
     "metadata": {},
     "output_type": "execute_result"
    }
   ],
   "source": [
    "file_new.head()    # critical feaures / columns are now quantitative "
   ]
  },
  {
   "cell_type": "code",
   "execution_count": 212,
   "id": "1d986fb8",
   "metadata": {
    "scrolled": false
   },
   "outputs": [
    {
     "name": "stdout",
     "output_type": "stream",
     "text": [
      "Neighbourhood\n",
      "0     3877\n",
      "1      644\n",
      "2       69\n",
      "3      835\n",
      "4      700\n",
      "      ... \n",
      "76     258\n",
      "77     135\n",
      "78       8\n",
      "79       2\n",
      "80       1\n",
      "Length: 81, dtype: int64\n",
      "----------------\n",
      "No-show\n",
      "0    88208\n",
      "1    22319\n",
      "dtype: int64\n",
      "----------------\n",
      "Hipertension\n",
      "0    88726\n",
      "1    21801\n",
      "dtype: int64\n",
      "----------------\n",
      "Diabetes\n",
      "0    102584\n",
      "1      7943\n",
      "dtype: int64\n"
     ]
    }
   ],
   "source": [
    " # grouping by relevant columns to see the total size of the particular feature\n",
    "\n",
    "print(file_new.groupby('Neighbourhood').size())  \n",
    "print(\"----------------\")\n",
    "\n",
    "print(file_new.groupby('No-show').size())\n",
    "print(\"----------------\")\n",
    "\n",
    "print(file_new.groupby('Hipertension').size())\n",
    "print(\"----------------\")\n",
    "\n",
    "print(file_new.groupby('Diabetes').size())\n"
   ]
  },
  {
   "cell_type": "markdown",
   "id": "0a0c58d9",
   "metadata": {},
   "source": [
    "## Part 2. Data Exploration \n",
    "##### In this part, we are going to address 2 basic questions\n",
    "- **Which features might be responsible for No Show Cause**\n",
    "- **What is the probability for these features for Show / No Show Cause**\n",
    "\n",
    "Both the questions will be addressed simultaneously while doing the analysis"
   ]
  },
  {
   "cell_type": "code",
   "execution_count": 213,
   "id": "b5ee3f86",
   "metadata": {},
   "outputs": [
    {
     "data": {
      "text/plain": [
       "array([[<AxesSubplot:title={'center':'Gender'}>,\n",
       "        <AxesSubplot:title={'center':'Age'}>,\n",
       "        <AxesSubplot:title={'center':'Neighbourhood'}>],\n",
       "       [<AxesSubplot:title={'center':'Scholarship'}>,\n",
       "        <AxesSubplot:title={'center':'Hipertension'}>,\n",
       "        <AxesSubplot:title={'center':'Diabetes'}>],\n",
       "       [<AxesSubplot:title={'center':'Alcoholism'}>,\n",
       "        <AxesSubplot:title={'center':'Handcap'}>,\n",
       "        <AxesSubplot:title={'center':'SMS_received'}>],\n",
       "       [<AxesSubplot:title={'center':'No-show'}>, <AxesSubplot:>,\n",
       "        <AxesSubplot:>]], dtype=object)"
      ]
     },
     "execution_count": 213,
     "metadata": {},
     "output_type": "execute_result"
    },
    {
     "data": {
      "image/png": "[encoded data removed]",
      "text/plain": [
       "<Figure size 720x720 with 12 Axes>"
      ]
     },
     "metadata": {
      "needs_background": "light"
     },
     "output_type": "display_data"
    }
   ],
   "source": [
    "# plotting histogram of different variable to understand the distribution of data. This will also be helpful\n",
    "# to get a sense of whether the data is normally distributed or is skewed and whether it is unimodal / bimodal \n",
    "# multimodal\n",
    "\n",
    "file_new.hist(figsize=(10,10))\n"
   ]
  },
  {
   "cell_type": "markdown",
   "id": "cd8a2db0",
   "metadata": {},
   "source": [
    "##### Above, we have plot histograms of different variables to understand the distribution of data. This will also be helpful to get a sense of whether the data is normally distributed or is skewed and whether it is unimodal / bimodal or multimodal"
   ]
  },
  {
   "cell_type": "code",
   "execution_count": 214,
   "id": "edb3c23f",
   "metadata": {},
   "outputs": [
    {
     "data": {
      "text/plain": [
       "Text(0.5, 1.0, 'Outlier anaysis of Age')"
      ]
     },
     "execution_count": 214,
     "metadata": {},
     "output_type": "execute_result"
    },
    {
     "data": {
      "image/png": "[encoded data removed]",
      "text/plain": [
       "<Figure size 1080x720 with 16 Axes>"
      ]
     },
     "metadata": {
      "needs_background": "light"
     },
     "output_type": "display_data"
    }
   ],
   "source": [
    "# plotting a box plot to check for the outliers -> taking the maximum ( Q3 + 1.5 IQR) as the limit and removing \n",
    "# rest of the points which will be considered as outliers\n",
    "\n",
    "file_new.Age.plot(kind='box', subplots=True, layout=(4,4), figsize=(15,10))\n",
    "plt.title(\"Outlier anaysis of Age\")"
   ]
  },
  {
   "cell_type": "markdown",
   "id": "c46a89b7",
   "metadata": {},
   "source": [
    "##### Above graph shows a box plot for Age. we will consider age between 0 and 100 as we can see the outliers above the age of 100 in the above graph. "
   ]
  },
  {
   "cell_type": "code",
   "execution_count": 215,
   "id": "ab9d60e1",
   "metadata": {},
   "outputs": [
    {
     "data": {
      "text/plain": [
       "(110519, 12)"
      ]
     },
     "execution_count": 215,
     "metadata": {},
     "output_type": "execute_result"
    }
   ],
   "source": [
    "file_new = file_new[(file_new.Age >= 0) & (file_new.Age <= 100)]\n",
    "file_new.shape "
   ]
  },
  {
   "cell_type": "markdown",
   "id": "012ced76",
   "metadata": {},
   "source": [
    "##### with the current format, we cannot comsider dates of appointment and schedule for analysis, therefore, we would convert the same in relevant date and time format using the numpy datetime function\n"
   ]
  },
  {
   "cell_type": "code",
   "execution_count": 216,
   "id": "7fed3e19",
   "metadata": {},
   "outputs": [],
   "source": [
    "file_new.AppointmentDay = file_new.AppointmentDay.apply(np.datetime64)\n",
    "file_new.ScheduledDay = file_new.ScheduledDay.apply(np.datetime64)\n"
   ]
  },
  {
   "cell_type": "code",
   "execution_count": 217,
   "id": "ba2bdfcc",
   "metadata": {},
   "outputs": [
    {
     "data": {
      "text/html": [
       "<div>\n",
       "<style scoped>\n",
       "    .dataframe tbody tr th:only-of-type {\n",
       "        vertical-align: middle;\n",
       "    }\n",
       "\n",
       "    .dataframe tbody tr th {\n",
       "        vertical-align: top;\n",
       "    }\n",
       "\n",
       "    .dataframe thead th {\n",
       "        text-align: right;\n",
       "    }\n",
       "</style>\n",
       "<table border=\"1\" class=\"dataframe\">\n",
       "  <thead>\n",
       "    <tr style=\"text-align: right;\">\n",
       "      <th></th>\n",
       "      <th>Gender</th>\n",
       "      <th>ScheduledDay</th>\n",
       "      <th>AppointmentDay</th>\n",
       "      <th>Age</th>\n",
       "      <th>Neighbourhood</th>\n",
       "      <th>Scholarship</th>\n",
       "      <th>Hipertension</th>\n",
       "      <th>Diabetes</th>\n",
       "      <th>Alcoholism</th>\n",
       "      <th>Handcap</th>\n",
       "      <th>SMS_received</th>\n",
       "      <th>No-show</th>\n",
       "    </tr>\n",
       "  </thead>\n",
       "  <tbody>\n",
       "    <tr>\n",
       "      <th>0</th>\n",
       "      <td>1</td>\n",
       "      <td>2016-04-29 18:38:08</td>\n",
       "      <td>2016-04-29</td>\n",
       "      <td>62</td>\n",
       "      <td>0</td>\n",
       "      <td>0</td>\n",
       "      <td>1</td>\n",
       "      <td>0</td>\n",
       "      <td>0</td>\n",
       "      <td>0</td>\n",
       "      <td>0</td>\n",
       "      <td>0</td>\n",
       "    </tr>\n",
       "    <tr>\n",
       "      <th>1</th>\n",
       "      <td>0</td>\n",
       "      <td>2016-04-29 16:08:27</td>\n",
       "      <td>2016-04-29</td>\n",
       "      <td>56</td>\n",
       "      <td>0</td>\n",
       "      <td>0</td>\n",
       "      <td>0</td>\n",
       "      <td>0</td>\n",
       "      <td>0</td>\n",
       "      <td>0</td>\n",
       "      <td>0</td>\n",
       "      <td>0</td>\n",
       "    </tr>\n",
       "    <tr>\n",
       "      <th>2</th>\n",
       "      <td>1</td>\n",
       "      <td>2016-04-29 16:19:04</td>\n",
       "      <td>2016-04-29</td>\n",
       "      <td>62</td>\n",
       "      <td>1</td>\n",
       "      <td>0</td>\n",
       "      <td>0</td>\n",
       "      <td>0</td>\n",
       "      <td>0</td>\n",
       "      <td>0</td>\n",
       "      <td>0</td>\n",
       "      <td>0</td>\n",
       "    </tr>\n",
       "    <tr>\n",
       "      <th>3</th>\n",
       "      <td>1</td>\n",
       "      <td>2016-04-29 17:29:31</td>\n",
       "      <td>2016-04-29</td>\n",
       "      <td>8</td>\n",
       "      <td>2</td>\n",
       "      <td>0</td>\n",
       "      <td>0</td>\n",
       "      <td>0</td>\n",
       "      <td>0</td>\n",
       "      <td>0</td>\n",
       "      <td>0</td>\n",
       "      <td>0</td>\n",
       "    </tr>\n",
       "    <tr>\n",
       "      <th>4</th>\n",
       "      <td>1</td>\n",
       "      <td>2016-04-29 16:07:23</td>\n",
       "      <td>2016-04-29</td>\n",
       "      <td>56</td>\n",
       "      <td>0</td>\n",
       "      <td>0</td>\n",
       "      <td>1</td>\n",
       "      <td>1</td>\n",
       "      <td>0</td>\n",
       "      <td>0</td>\n",
       "      <td>0</td>\n",
       "      <td>0</td>\n",
       "    </tr>\n",
       "  </tbody>\n",
       "</table>\n",
       "</div>"
      ],
      "text/plain": [
       "   Gender        ScheduledDay AppointmentDay  Age  Neighbourhood  Scholarship  \\\n",
       "0       1 2016-04-29 18:38:08     2016-04-29   62              0            0   \n",
       "1       0 2016-04-29 16:08:27     2016-04-29   56              0            0   \n",
       "2       1 2016-04-29 16:19:04     2016-04-29   62              1            0   \n",
       "3       1 2016-04-29 17:29:31     2016-04-29    8              2            0   \n",
       "4       1 2016-04-29 16:07:23     2016-04-29   56              0            0   \n",
       "\n",
       "   Hipertension  Diabetes  Alcoholism  Handcap  SMS_received  No-show  \n",
       "0             1         0           0        0             0        0  \n",
       "1             0         0           0        0             0        0  \n",
       "2             0         0           0        0             0        0  \n",
       "3             0         0           0        0             0        0  \n",
       "4             1         1           0        0             0        0  "
      ]
     },
     "execution_count": 217,
     "metadata": {},
     "output_type": "execute_result"
    }
   ],
   "source": [
    "file_new.head()"
   ]
  },
  {
   "cell_type": "code",
   "execution_count": 218,
   "id": "00bc083b",
   "metadata": {},
   "outputs": [],
   "source": [
    "# we can also explicitly take time and date separtely and store them in variables and create new columns if required\n",
    "time = [file_new.ScheduledDay[0].time()]\n",
    "date = [file_new.ScheduledDay[0].date()]\n",
    "\n",
    "#file_new[\"Scheduled_Day_\"] = [d.date() for d in file_new['ScheduledDay']]\n",
    "#file_new[\"Scheduled_Time\"] = [d.time() for d in file_new['ScheduledDay']]"
   ]
  },
  {
   "cell_type": "markdown",
   "id": "491ad2cf",
   "metadata": {},
   "source": [
    "#### Try to find the difference between the appointment date and the scheduled date to  understand if the difference between the two can also help us to predict the No show appearance of the patients"
   ]
  },
  {
   "cell_type": "code",
   "execution_count": 219,
   "id": "db28b908",
   "metadata": {},
   "outputs": [],
   "source": [
    "days_to_appointment = file_new.AppointmentDay - file_new.ScheduledDay\n",
    "days_to_appointment = days_to_appointment.apply(lambda x: x.total_seconds() / (3600 * 24)) # converting to days based on the time as well\n"
   ]
  },
  {
   "cell_type": "code",
   "execution_count": 220,
   "id": "50b2c181",
   "metadata": {},
   "outputs": [],
   "source": [
    "days_to_appointment = days_to_appointment.astype(int)   # converting days to appointment to integer values\n",
    "days_to_appointment \n",
    "file_new[\"Days_to_Appointment\"] = days_to_appointment"
   ]
  },
  {
   "cell_type": "code",
   "execution_count": 221,
   "id": "89183327",
   "metadata": {},
   "outputs": [
    {
     "data": {
      "text/html": [
       "<div>\n",
       "<style scoped>\n",
       "    .dataframe tbody tr th:only-of-type {\n",
       "        vertical-align: middle;\n",
       "    }\n",
       "\n",
       "    .dataframe tbody tr th {\n",
       "        vertical-align: top;\n",
       "    }\n",
       "\n",
       "    .dataframe thead th {\n",
       "        text-align: right;\n",
       "    }\n",
       "</style>\n",
       "<table border=\"1\" class=\"dataframe\">\n",
       "  <thead>\n",
       "    <tr style=\"text-align: right;\">\n",
       "      <th></th>\n",
       "      <th>Gender</th>\n",
       "      <th>ScheduledDay</th>\n",
       "      <th>AppointmentDay</th>\n",
       "      <th>Age</th>\n",
       "      <th>Neighbourhood</th>\n",
       "      <th>Scholarship</th>\n",
       "      <th>Hipertension</th>\n",
       "      <th>Diabetes</th>\n",
       "      <th>Alcoholism</th>\n",
       "      <th>Handcap</th>\n",
       "      <th>SMS_received</th>\n",
       "      <th>No-show</th>\n",
       "      <th>Days_to_Appointment</th>\n",
       "    </tr>\n",
       "  </thead>\n",
       "  <tbody>\n",
       "    <tr>\n",
       "      <th>0</th>\n",
       "      <td>1</td>\n",
       "      <td>2016-04-29 18:38:08</td>\n",
       "      <td>2016-04-29</td>\n",
       "      <td>62</td>\n",
       "      <td>0</td>\n",
       "      <td>0</td>\n",
       "      <td>1</td>\n",
       "      <td>0</td>\n",
       "      <td>0</td>\n",
       "      <td>0</td>\n",
       "      <td>0</td>\n",
       "      <td>0</td>\n",
       "      <td>0</td>\n",
       "    </tr>\n",
       "    <tr>\n",
       "      <th>1</th>\n",
       "      <td>0</td>\n",
       "      <td>2016-04-29 16:08:27</td>\n",
       "      <td>2016-04-29</td>\n",
       "      <td>56</td>\n",
       "      <td>0</td>\n",
       "      <td>0</td>\n",
       "      <td>0</td>\n",
       "      <td>0</td>\n",
       "      <td>0</td>\n",
       "      <td>0</td>\n",
       "      <td>0</td>\n",
       "      <td>0</td>\n",
       "      <td>0</td>\n",
       "    </tr>\n",
       "    <tr>\n",
       "      <th>2</th>\n",
       "      <td>1</td>\n",
       "      <td>2016-04-29 16:19:04</td>\n",
       "      <td>2016-04-29</td>\n",
       "      <td>62</td>\n",
       "      <td>1</td>\n",
       "      <td>0</td>\n",
       "      <td>0</td>\n",
       "      <td>0</td>\n",
       "      <td>0</td>\n",
       "      <td>0</td>\n",
       "      <td>0</td>\n",
       "      <td>0</td>\n",
       "      <td>0</td>\n",
       "    </tr>\n",
       "    <tr>\n",
       "      <th>3</th>\n",
       "      <td>1</td>\n",
       "      <td>2016-04-29 17:29:31</td>\n",
       "      <td>2016-04-29</td>\n",
       "      <td>8</td>\n",
       "      <td>2</td>\n",
       "      <td>0</td>\n",
       "      <td>0</td>\n",
       "      <td>0</td>\n",
       "      <td>0</td>\n",
       "      <td>0</td>\n",
       "      <td>0</td>\n",
       "      <td>0</td>\n",
       "      <td>0</td>\n",
       "    </tr>\n",
       "    <tr>\n",
       "      <th>4</th>\n",
       "      <td>1</td>\n",
       "      <td>2016-04-29 16:07:23</td>\n",
       "      <td>2016-04-29</td>\n",
       "      <td>56</td>\n",
       "      <td>0</td>\n",
       "      <td>0</td>\n",
       "      <td>1</td>\n",
       "      <td>1</td>\n",
       "      <td>0</td>\n",
       "      <td>0</td>\n",
       "      <td>0</td>\n",
       "      <td>0</td>\n",
       "      <td>0</td>\n",
       "    </tr>\n",
       "  </tbody>\n",
       "</table>\n",
       "</div>"
      ],
      "text/plain": [
       "   Gender        ScheduledDay AppointmentDay  Age  Neighbourhood  Scholarship  \\\n",
       "0       1 2016-04-29 18:38:08     2016-04-29   62              0            0   \n",
       "1       0 2016-04-29 16:08:27     2016-04-29   56              0            0   \n",
       "2       1 2016-04-29 16:19:04     2016-04-29   62              1            0   \n",
       "3       1 2016-04-29 17:29:31     2016-04-29    8              2            0   \n",
       "4       1 2016-04-29 16:07:23     2016-04-29   56              0            0   \n",
       "\n",
       "   Hipertension  Diabetes  Alcoholism  Handcap  SMS_received  No-show  \\\n",
       "0             1         0           0        0             0        0   \n",
       "1             0         0           0        0             0        0   \n",
       "2             0         0           0        0             0        0   \n",
       "3             0         0           0        0             0        0   \n",
       "4             1         1           0        0             0        0   \n",
       "\n",
       "   Days_to_Appointment  \n",
       "0                    0  \n",
       "1                    0  \n",
       "2                    0  \n",
       "3                    0  \n",
       "4                    0  "
      ]
     },
     "execution_count": 221,
     "metadata": {},
     "output_type": "execute_result"
    }
   ],
   "source": [
    "file_new.head()"
   ]
  },
  {
   "cell_type": "markdown",
   "id": "61339d4f",
   "metadata": {},
   "source": [
    "#### Which features look the most prominent for helping to figure out the No show case"
   ]
  },
  {
   "cell_type": "markdown",
   "id": "841666e2",
   "metadata": {},
   "source": [
    "###### We will try to plot bar graphs trying to understand the variation of different features with respect to the No SHow feature."
   ]
  },
  {
   "cell_type": "code",
   "execution_count": 222,
   "id": "ba739abd",
   "metadata": {},
   "outputs": [],
   "source": [
    "# this function helps to plot one feature again another and see the number representing each Show and No Show category\n",
    "def bivariate_analysis(feature, compare_feature, bins):\n",
    "    dat = pd.cut(feature, bins=bins)\n",
    "    comp_result = pd.crosstab(dat, compare_feature)\n",
    "    comp_result.div(comp_result.sum(1), axis=0).plot(kind=\"bar\", stacked=True)\n",
    "    print(dat.value_counts())"
   ]
  },
  {
   "cell_type": "markdown",
   "id": "f650dbb5",
   "metadata": {},
   "source": [
    "#### Calculate probability for the Show case based on a category like Age, Neighbourhood, etc"
   ]
  },
  {
   "cell_type": "code",
   "execution_count": 223,
   "id": "3bab348d",
   "metadata": {},
   "outputs": [],
   "source": [
    "def probability(prob_show, prob_no_show):\n",
    "    for i in range(len(prob_show)):\n",
    "        if ( (prob_show[i]) + (prob_no_show[i])!=0 ):\n",
    "            prob_show[i] /= (prob_show[i]) + (prob_no_show[i]) \n",
    "            prob_show[i]*=100\n",
    "        \n",
    "    return prob_show\n"
   ]
  },
  {
   "cell_type": "markdown",
   "id": "39408a73",
   "metadata": {},
   "source": [
    "### Age as a factor for Show up / No Show Up"
   ]
  },
  {
   "cell_type": "code",
   "execution_count": 224,
   "id": "0aa30272",
   "metadata": {
    "scrolled": false
   },
   "outputs": [
    {
     "name": "stderr",
     "output_type": "stream",
     "text": [
      "/Users/sudhakargoyal/opt/anaconda3/lib/python3.9/site-packages/seaborn/distributions.py:2619: FutureWarning: `distplot` is a deprecated function and will be removed in a future version. Please adapt your code to use either `displot` (a figure-level function with similar flexibility) or `histplot` (an axes-level function for histograms).\n",
      "  warnings.warn(msg, FutureWarning)\n"
     ]
    },
    {
     "data": {
      "text/plain": [
       "Text(0.5, 1.0, 'Distributio of Age')"
      ]
     },
     "execution_count": 224,
     "metadata": {},
     "output_type": "execute_result"
    },
    {
     "data": {
      "image/png": "[encoded data removed]",
      "text/plain": [
       "<Figure size 432x288 with 1 Axes>"
      ]
     },
     "metadata": {
      "needs_background": "light"
     },
     "output_type": "display_data"
    }
   ],
   "source": [
    "sns.distplot(file_new.Age)       # looking at the distribution of Age to get some basic visual understanding \n",
    "plt.title(\"Distributio of Age\")"
   ]
  },
  {
   "cell_type": "markdown",
   "id": "d10d3413",
   "metadata": {},
   "source": [
    "##### it is clearly visible from the graph that maximum number of patients are from the age group of 0 -1 years  and then there is a constant number till 60 years and then the number of patients fall post 60years"
   ]
  },
  {
   "cell_type": "code",
   "execution_count": 225,
   "id": "08f22a79",
   "metadata": {
    "scrolled": false
   },
   "outputs": [
    {
     "name": "stdout",
     "output_type": "stream",
     "text": [
      "(-0.1, 3.333]       8943\n",
      "(56.667, 60.0]      6107\n",
      "(36.667, 40.0]      6100\n",
      "(46.667, 50.0]      6058\n",
      "(16.667, 20.0]      5978\n",
      "(26.667, 30.0]      5749\n",
      "(6.667, 10.0]       5497\n",
      "(50.0, 53.333]      4964\n",
      "(53.333, 56.667]    4590\n",
      "(33.333, 36.667]    4484\n",
      "(30.0, 33.333]      4468\n",
      "(43.333, 46.667]    4400\n",
      "(3.333, 6.667]      4309\n",
      "(20.0, 23.333]      4177\n",
      "(60.0, 63.333]      4029\n",
      "(40.0, 43.333]      3962\n",
      "(23.333, 26.667]    3857\n",
      "(13.333, 16.667]    3731\n",
      "(63.333, 66.667]    3619\n",
      "(66.667, 70.0]      3541\n",
      "(10.0, 13.333]      3390\n",
      "(70.0, 73.333]      2035\n",
      "(76.667, 80.0]      1969\n",
      "(73.333, 76.667]    1717\n",
      "(80.0, 83.333]      1106\n",
      "(83.333, 86.667]     846\n",
      "(86.667, 90.0]       592\n",
      "(90.0, 93.333]       205\n",
      "(93.333, 96.667]      74\n",
      "(96.667, 100.0]       22\n",
      "Name: Age, dtype: int64\n"
     ]
    },
    {
     "data": {
      "text/plain": [
       "Text(0.5, 1.0, 'Probability of show / no show with respect to Age')"
      ]
     },
     "execution_count": 225,
     "metadata": {},
     "output_type": "execute_result"
    },
    {
     "data": {
      "image/png": "[encoded data removed]",
      "text/plain": [
       "<Figure size 432x288 with 1 Axes>"
      ]
     },
     "metadata": {
      "needs_background": "light"
     },
     "output_type": "display_data"
    }
   ],
   "source": [
    "bins = 30\n",
    "bivariate_analysis(file_new.Age,file_new[\"No-show\"], bins, )  # bivariate analysis for Age based on 50 bins \n",
    "plt.ylabel(\"probability\")\n",
    "plt.title(\"Probability of show / no show with respect to Age\")"
   ]
  },
  {
   "cell_type": "markdown",
   "id": "fe3a3ffd",
   "metadata": {},
   "source": [
    "##### We can clearly see that there is some variation and age does present a case for no show case -> From the graph it seems that minimum 70 % people show up from any age group but let us confirm the same with numbers"
   ]
  },
  {
   "cell_type": "code",
   "execution_count": 226,
   "id": "42bebef7",
   "metadata": {},
   "outputs": [],
   "source": [
    "# we create two variables -> oen for shpw probability and another for no show probability and find the show and no show\n",
    "# frequency for each age to furthe calculate the probability\n",
    "\n",
    "prob_show = [0]*101\n",
    "prob_no_show = [0]*101\n",
    "for i, j in file_new.iterrows():\n",
    "    if (j[\"No-show\"]) == 0:\n",
    "        prob_show[j.Age]+= 1\n",
    "    else:\n",
    "        prob_no_show[j.Age]+=1\n",
    "\n"
   ]
  },
  {
   "cell_type": "code",
   "execution_count": 227,
   "id": "15ef3650",
   "metadata": {},
   "outputs": [],
   "source": [
    "# calculating probability to see the number of patients showing up for appointment \n",
    "\n",
    "for i in range(len(prob_show)):\n",
    "    prob_show[i] /= (prob_show[i]) + (prob_no_show[i]) \n",
    "    prob_show[i]*=100\n"
   ]
  },
  {
   "cell_type": "markdown",
   "id": "0adf7ddd",
   "metadata": {},
   "source": [
    "##### We will plot the probability to confirm 70% people of each age group show up for appointment. Peope in the age group of 98-100 are very low and all of them showed up for appointment. "
   ]
  },
  {
   "cell_type": "code",
   "execution_count": 228,
   "id": "991c8d5a",
   "metadata": {},
   "outputs": [
    {
     "data": {
      "text/plain": [
       "Text(0.5, 1.0, 'Distribution of probability of showing wrt Age')"
      ]
     },
     "execution_count": 228,
     "metadata": {},
     "output_type": "execute_result"
    },
    {
     "data": {
      "image/png": "[encoded data removed]",
      "text/plain": [
       "<Figure size 432x288 with 1 Axes>"
      ]
     },
     "metadata": {
      "needs_background": "light"
     },
     "output_type": "display_data"
    }
   ],
   "source": [
    "plt.scatter(range(len(prob_show)), prob_show)\n",
    "plt.xlabel(\"Age\")\n",
    "plt.ylabel(\"prob_show\")\n",
    "plt.title(\"Distribution of probability of showing wrt Age\")"
   ]
  },
  {
   "cell_type": "code",
   "execution_count": 229,
   "id": "c8e10618",
   "metadata": {
    "scrolled": false
   },
   "outputs": [
    {
     "name": "stdout",
     "output_type": "stream",
     "text": [
      "[81.94405199208816, 81.74219093708754, 84.42521631644006, 81.69200264375414, 78.29099307159353, 78.50906648757555, 79.22419460881, 78.90679747722494, 77.6685393258427, 73.46938775510205, 76.138147566719, 79.3305439330544, 75.0915750915751, 72.52946509519492, 71.73524150268337, 73.41040462427746, 74.82168330955777, 73.75745526838966, 76.46267652992603, 74.49838187702265, 75.29575504523312, 75.55096418732782, 74.49127906976744, 74.57375833951076, 74.15458937198068, 73.57357357357357, 75.68199532346064, 76.10748002904866, 77.07182320441989, 76.47897362794012, 75.7396449704142, 77.76233495482975, 78.00664451827242, 77.16535433070865, 78.89908256880734, 79.02757619738752, 78.22784810126582, 79.32159165035877, 80.35604665438919, 77.86458333333334, 78.53067047075606, 77.11738484398218, 79.16666666666666, 77.00892857142857, 78.27841291190316, 82.45010323468685, 80.6164383561644, 80.84648493543759, 80.6290207290922, 81.96125907990314, 81.9590824550527, 81.94001276324187, 82.9896907216495, 80.67837674136887, 82.48366013071895, 81.96491228070175, 83.91437308868501, 82.65751715533375, 82.77739959155889, 83.55911330049261, 83.27427356484762, 85.10796723752793, 83.84146341463415, 86.97234352256187, 86.32607062359129, 84.83197093551317, 84.91996630160067, 84.78931140801645, 83.300395256917, 85.8173076923077, 87.01657458563537, 82.58992805755395, 83.57723577235772, 86.75862068965517, 85.21594684385381, 85.11029411764706, 84.0630472854641, 85.00948766603416, 83.54898336414048, 84.35897435897436, 84.14872798434442, 85.48387096774194, 83.16326530612244, 78.21428571428571, 88.7459807073955, 82.18181818181817, 83.84615384615385, 85.32608695652173, 90.47619047619048, 83.23699421965318, 78.89908256880734, 80.3030303030303, 76.74418604651163, 81.13207547169812, 81.81818181818183, 75.0, 94.11764705882352, 81.81818181818183, 83.33333333333334, 100.0, 100.0]\n"
     ]
    },
    {
     "data": {
      "text/plain": [
       "71.73524150268337"
      ]
     },
     "execution_count": 229,
     "metadata": {},
     "output_type": "execute_result"
    }
   ],
   "source": [
    "print(prob_show)\n",
    "min(prob_show)  # to see the minimum prob of showing up in all the probabilities "
   ]
  },
  {
   "cell_type": "markdown",
   "id": "e71c0ef1",
   "metadata": {},
   "source": [
    "### Days_to_Appointment as a factor for Show up / No Show Up\n"
   ]
  },
  {
   "cell_type": "code",
   "execution_count": 230,
   "id": "33c51fb5",
   "metadata": {
    "scrolled": false
   },
   "outputs": [
    {
     "name": "stderr",
     "output_type": "stream",
     "text": [
      "/Users/sudhakargoyal/opt/anaconda3/lib/python3.9/site-packages/seaborn/distributions.py:2619: FutureWarning: `distplot` is a deprecated function and will be removed in a future version. Please adapt your code to use either `displot` (a figure-level function with similar flexibility) or `histplot` (an axes-level function for histograms).\n",
      "  warnings.warn(msg, FutureWarning)\n"
     ]
    },
    {
     "data": {
      "text/plain": [
       "Text(0.5, 1.0, 'Distribution of Days to Appointment')"
      ]
     },
     "execution_count": 230,
     "metadata": {},
     "output_type": "execute_result"
    },
    {
     "data": {
      "image/png": "[encoded data removed]",
      "text/plain": [
       "<Figure size 432x288 with 1 Axes>"
      ]
     },
     "metadata": {
      "needs_background": "light"
     },
     "output_type": "display_data"
    }
   ],
   "source": [
    "sns.distplot(file_new.Days_to_Appointment)   \n",
    "plt.title(\"Distribution of Days to Appointment\")"
   ]
  },
  {
   "cell_type": "markdown",
   "id": "f2d320ba",
   "metadata": {},
   "source": [
    "##### The above plot is a dist plot to understand the frequency. It shows most people register for the same day appointment \n"
   ]
  },
  {
   "cell_type": "code",
   "execution_count": 231,
   "id": "abda0634",
   "metadata": {
    "scrolled": false
   },
   "outputs": [
    {
     "name": "stdout",
     "output_type": "stream",
     "text": [
      "(-6.184, 12.4]    79859\n",
      "(12.4, 30.8]      20955\n",
      "(30.8, 49.2]       6577\n",
      "(49.2, 67.6]       2028\n",
      "(67.6, 86.0]        792\n",
      "(86.0, 104.4]       192\n",
      "(159.6, 178.0]       45\n",
      "(104.4, 122.8]       35\n",
      "(122.8, 141.2]       24\n",
      "(141.2, 159.6]       12\n",
      "Name: Days_to_Appointment, dtype: int64\n"
     ]
    },
    {
     "data": {
      "text/plain": [
       "Text(0.5, 1.0, 'Probability of show / no show with respect to Days to Appointment')"
      ]
     },
     "execution_count": 231,
     "metadata": {},
     "output_type": "execute_result"
    },
    {
     "data": {
      "image/png": "[encoded data removed]",
      "text/plain": [
       "<Figure size 432x288 with 1 Axes>"
      ]
     },
     "metadata": {
      "needs_background": "light"
     },
     "output_type": "display_data"
    }
   ],
   "source": [
    "bins = 10\n",
    "bivariate_analysis(file_new.Days_to_Appointment,file_new[\"No-show\"], bins)# bivariate analysis with No show column\n",
    "plt.ylabel(\"probability\")\n",
    "plt.title(\"Probability of show / no show with respect to Days to Appointment\")"
   ]
  },
  {
   "cell_type": "markdown",
   "id": "78d5bcfb",
   "metadata": {},
   "source": [
    "##### The above graph shows the distribution of Show and No show cases based on Days to Appointment. Days to Appointment has been binned and represented accordingly"
   ]
  },
  {
   "cell_type": "code",
   "execution_count": 232,
   "id": "64df4443",
   "metadata": {},
   "outputs": [
    {
     "name": "stdout",
     "output_type": "stream",
     "text": [
      "<class 'pandas.core.series.Series'>\n",
      "Int64Index: 110519 entries, 0 to 110526\n",
      "Series name: None\n",
      "Non-Null Count   Dtype\n",
      "--------------   -----\n",
      "110519 non-null  int64\n",
      "dtypes: int64(1)\n",
      "memory usage: 5.7 MB\n"
     ]
    }
   ],
   "source": [
    "days_to_appointment.info()"
   ]
  },
  {
   "cell_type": "code",
   "execution_count": 233,
   "id": "e0c6a49f",
   "metadata": {},
   "outputs": [],
   "source": [
    "prob_show_app = [0]*179   # prob show app size is one greater than the maximum number in days_to_appointment i.e 179\n",
    "prob_no_show_app = [0]*179\n",
    "for i, j in file_new.iterrows():\n",
    "    if (j[\"No-show\"]) == 0:\n",
    "        prob_show_app[j.Days_to_Appointment]+= 1\n",
    "    else:\n",
    "        prob_no_show_app[j.Days_to_Appointment]+=1"
   ]
  },
  {
   "cell_type": "code",
   "execution_count": 234,
   "id": "b37a3620",
   "metadata": {
    "scrolled": true
   },
   "outputs": [
    {
     "data": {
      "text/plain": [
       "[93.36348890868801,\n",
       " 76.17489589530042,\n",
       " 76.52650822669104,\n",
       " 76.72967863894141,\n",
       " 73.39029600244126,\n",
       " 75.20435967302453,\n",
       " 73.31838565022422,\n",
       " 71.26929674099486,\n",
       " 72.58566978193146,\n",
       " 68.36808051761322,\n",
       " 68.38905775075987,\n",
       " 68.3408071748879,\n",
       " 68.13317479191439,\n",
       " 68.65774116031582,\n",
       " 66.57789613848203,\n",
       " 69.50477845351868,\n",
       " 68.38301716350497,\n",
       " 69.44172380019589,\n",
       " 65.22988505747126,\n",
       " 65.62763268744735,\n",
       " 69.10263299301451,\n",
       " 65.55839727195226,\n",
       " 66.42335766423358,\n",
       " 62.21864951768489,\n",
       " 59.811616954474104,\n",
       " 64.0218878248974,\n",
       " 68.41066140177689,\n",
       " 70.5158264947245,\n",
       " 67.30945821854912,\n",
       " 73.4375,\n",
       " 67.26190476190477,\n",
       " 64.84641638225256,\n",
       " 66.56626506024097,\n",
       " 66.58415841584159,\n",
       " 62.72066458982347,\n",
       " 68.96551724137932,\n",
       " 64.04833836858006,\n",
       " 66.16161616161617,\n",
       " 67.64705882352942,\n",
       " 59.4488188976378,\n",
       " 64.61988304093568,\n",
       " 63.06954436450839,\n",
       " 70.07874015748031,\n",
       " 70.06369426751591,\n",
       " 63.503649635036496,\n",
       " 63.63636363636363,\n",
       " 69.72477064220183,\n",
       " 70.94017094017094,\n",
       " 65.27777777777779,\n",
       " 73.07692307692307,\n",
       " 63.73626373626373,\n",
       " 74.44444444444444,\n",
       " 65.625,\n",
       " 63.013698630136986,\n",
       " 55.04587155963303,\n",
       " 74.8768472906404,\n",
       " 62.244897959183675,\n",
       " 67.27272727272727,\n",
       " 63.33333333333333,\n",
       " 57.534246575342465,\n",
       " 77.03703703703704,\n",
       " 79.27461139896373,\n",
       " 73.5,\n",
       " 62.66666666666667,\n",
       " 70.10309278350515,\n",
       " 70.37037037037037,\n",
       " 69.84126984126983,\n",
       " 67.14285714285714,\n",
       " 67.61904761904762,\n",
       " 68.75,\n",
       " 78.0,\n",
       " 69.81132075471697,\n",
       " 64.86486486486487,\n",
       " 66.66666666666666,\n",
       " 69.44444444444444,\n",
       " 69.23076923076923,\n",
       " 66.0377358490566,\n",
       " 60.60606060606061,\n",
       " 60.86956521739131,\n",
       " 55.55555555555556,\n",
       " 60.0,\n",
       " 100.0,\n",
       " 87.5,\n",
       " 77.77777777777779,\n",
       " 78.37837837837837,\n",
       " 83.33333333333334,\n",
       " 68.75,\n",
       " 68.75,\n",
       " 58.82352941176471,\n",
       " 75.86206896551724,\n",
       " 78.57142857142857,\n",
       " 100.0,\n",
       " 100.0,\n",
       " 100.0,\n",
       " 80.0,\n",
       " 75.0,\n",
       " 100.0,\n",
       " 80.0,\n",
       " 0,\n",
       " 0,\n",
       " 100.0,\n",
       " 75.0,\n",
       " 40.0,\n",
       " 25.0,\n",
       " 100.0,\n",
       " 0,\n",
       " 100.0,\n",
       " 100.0,\n",
       " 100.0,\n",
       " 50.0,\n",
       " 80.0,\n",
       " 100.0,\n",
       " 0,\n",
       " 0,\n",
       " 100.0,\n",
       " 0,\n",
       " 100.0,\n",
       " 0,\n",
       " 100.0,\n",
       " 0,\n",
       " 0,\n",
       " 100.0,\n",
       " 100.0,\n",
       " 0,\n",
       " 100.0,\n",
       " 0.0,\n",
       " 100.0,\n",
       " 0,\n",
       " 0,\n",
       " 0,\n",
       " 0,\n",
       " 0.0,\n",
       " 63.63636363636363,\n",
       " 0,\n",
       " 0,\n",
       " 0,\n",
       " 0,\n",
       " 0,\n",
       " 0.0,\n",
       " 0,\n",
       " 0,\n",
       " 62.5,\n",
       " 0,\n",
       " 0,\n",
       " 0,\n",
       " 0.0,\n",
       " 0,\n",
       " 0,\n",
       " 0,\n",
       " 0,\n",
       " 0.0,\n",
       " 0,\n",
       " 0,\n",
       " 0,\n",
       " 40.0,\n",
       " 0,\n",
       " 0,\n",
       " 0,\n",
       " 0,\n",
       " 0,\n",
       " 0,\n",
       " 81.81818181818183,\n",
       " 0,\n",
       " 0,\n",
       " 0,\n",
       " 0,\n",
       " 0,\n",
       " 0,\n",
       " 87.5,\n",
       " 0,\n",
       " 0,\n",
       " 0,\n",
       " 0,\n",
       " 0.0,\n",
       " 0,\n",
       " 62.5,\n",
       " 0,\n",
       " 0,\n",
       " 57.14285714285714]"
      ]
     },
     "execution_count": 234,
     "metadata": {},
     "output_type": "execute_result"
    }
   ],
   "source": [
    "probability(prob_show_app, prob_no_show_app)  # calculating the probability based on Days to Appointment"
   ]
  },
  {
   "cell_type": "markdown",
   "id": "afb32863",
   "metadata": {},
   "source": [
    "#### It is pretty clear that the people who register on the same day of the appointment have the highest probability of showing up "
   ]
  },
  {
   "cell_type": "markdown",
   "id": "f0f2fa7e",
   "metadata": {},
   "source": [
    "##### Analysing the other features like Alcoholism, Diabetes, Handcap, gender and scholarship. It would be noted that these features do not play any role in helping to understand the behaviour for show / no show up"
   ]
  },
  {
   "cell_type": "code",
   "execution_count": 235,
   "id": "6b837d7e",
   "metadata": {
    "scrolled": false
   },
   "outputs": [
    {
     "name": "stdout",
     "output_type": "stream",
     "text": [
      "(-0.001, 0.1]    107159\n",
      "(0.9, 1.0]         3360\n",
      "(0.1, 0.2]            0\n",
      "(0.2, 0.3]            0\n",
      "(0.3, 0.4]            0\n",
      "(0.4, 0.5]            0\n",
      "(0.5, 0.6]            0\n",
      "(0.6, 0.7]            0\n",
      "(0.7, 0.8]            0\n",
      "(0.8, 0.9]            0\n",
      "Name: Alcoholism, dtype: int64\n"
     ]
    },
    {
     "data": {
      "text/plain": [
       "Text(0.5, 1.0, 'Probability of show / no show with respect to Alcoholism')"
      ]
     },
     "execution_count": 235,
     "metadata": {},
     "output_type": "execute_result"
    },
    {
     "data": {
      "image/png": "[encoded data removed]",
      "text/plain": [
       "<Figure size 432x288 with 1 Axes>"
      ]
     },
     "metadata": {
      "needs_background": "light"
     },
     "output_type": "display_data"
    }
   ],
   "source": [
    "bivariate_analysis(file_new.Alcoholism, file_new[\"No-show\"], 10)\n",
    " # analysis for Alcoholism data\n",
    "plt.ylabel(\"probability\")\n",
    "plt.title(\"Probability of show / no show with respect to Alcoholism\")"
   ]
  },
  {
   "cell_type": "markdown",
   "id": "d669aed6",
   "metadata": {},
   "source": [
    "#####  The above graph shows that probability for both being alcoholic and non-alcoholic is the same and does not represent clearly if a patient would not show up due to some reason. The probability of showing up even when alcoholic is high as depicted from the graph"
   ]
  },
  {
   "cell_type": "code",
   "execution_count": 236,
   "id": "6a7a4ac5",
   "metadata": {
    "scrolled": false
   },
   "outputs": [
    {
     "name": "stdout",
     "output_type": "stream",
     "text": [
      "(-0.004, 2.0]    110503\n",
      "(2.0, 4.0]           16\n",
      "Name: Handcap, dtype: int64\n"
     ]
    },
    {
     "data": {
      "text/plain": [
       "Text(0.5, 1.0, 'Probability of show / no show with respect to handcap')"
      ]
     },
     "execution_count": 236,
     "metadata": {},
     "output_type": "execute_result"
    },
    {
     "data": {
      "image/png": "[encoded data removed]",
      "text/plain": [
       "<Figure size 432x288 with 1 Axes>"
      ]
     },
     "metadata": {
      "needs_background": "light"
     },
     "output_type": "display_data"
    }
   ],
   "source": [
    "bivariate_analysis(file_new.Handcap, file_new[\"No-show\"], 2)\n",
    "    # # analysis for Handcap data\n",
    "plt.ylabel(\"probability\")\n",
    "plt.title(\"Probability of show / no show with respect to handcap\")"
   ]
  },
  {
   "cell_type": "markdown",
   "id": "7716057f",
   "metadata": {},
   "source": [
    "##### There is not much information given about Handcap feature. The probability of showing up even when handcap is high as depicted from the graph. The above graph shows that probability for showing up for both being handcap is almost same and does not represent clearly if a patient would not show up due to some reason. \n"
   ]
  },
  {
   "cell_type": "code",
   "execution_count": 237,
   "id": "e8ab09b8",
   "metadata": {
    "scrolled": false
   },
   "outputs": [
    {
     "name": "stdout",
     "output_type": "stream",
     "text": [
      "(-0.001, 0.1]    102576\n",
      "(0.9, 1.0]         7943\n",
      "(0.1, 0.2]            0\n",
      "(0.2, 0.3]            0\n",
      "(0.3, 0.4]            0\n",
      "(0.4, 0.5]            0\n",
      "(0.5, 0.6]            0\n",
      "(0.6, 0.7]            0\n",
      "(0.7, 0.8]            0\n",
      "(0.8, 0.9]            0\n",
      "Name: Diabetes, dtype: int64\n"
     ]
    },
    {
     "data": {
      "text/plain": [
       "Text(0.5, 1.0, 'Probability of show / no show with respect to Diabetes')"
      ]
     },
     "execution_count": 237,
     "metadata": {},
     "output_type": "execute_result"
    },
    {
     "data": {
      "image/png": "[encoded data removed]",
      "text/plain": [
       "<Figure size 432x288 with 1 Axes>"
      ]
     },
     "metadata": {
      "needs_background": "light"
     },
     "output_type": "display_data"
    }
   ],
   "source": [
    "bivariate_analysis(file_new.Diabetes, file_new[\"No-show\"], 10)   # # analysis for Diabetes data\n",
    "plt.ylabel(\"probability\")\n",
    "plt.title(\"Probability of show / no show with respect to Diabetes\")"
   ]
  },
  {
   "cell_type": "markdown",
   "id": "9993e837",
   "metadata": {},
   "source": [
    "##### There is not much information given about Diabetes feature. The probability of showing up even when Diabetic is high as depicted from the graph. The above graph shows that probability for showing up for both being Diabetic / non Diabetic is almost same and does not represent clearly if a patient would not show up due to some reason. \n"
   ]
  },
  {
   "cell_type": "code",
   "execution_count": 238,
   "id": "ad60104b",
   "metadata": {
    "scrolled": false
   },
   "outputs": [
    {
     "name": "stdout",
     "output_type": "stream",
     "text": [
      "(0.9, 1.0]       71832\n",
      "(-0.001, 0.1]    38687\n",
      "(0.1, 0.2]           0\n",
      "(0.2, 0.3]           0\n",
      "(0.3, 0.4]           0\n",
      "(0.4, 0.5]           0\n",
      "(0.5, 0.6]           0\n",
      "(0.6, 0.7]           0\n",
      "(0.7, 0.8]           0\n",
      "(0.8, 0.9]           0\n",
      "Name: Gender, dtype: int64\n"
     ]
    },
    {
     "data": {
      "text/plain": [
       "Text(0.5, 1.0, 'Probability of show / no show with respect to Gender')"
      ]
     },
     "execution_count": 238,
     "metadata": {},
     "output_type": "execute_result"
    },
    {
     "data": {
      "image/png": "[encoded data removed]",
      "text/plain": [
       "<Figure size 432x288 with 1 Axes>"
      ]
     },
     "metadata": {
      "needs_background": "light"
     },
     "output_type": "display_data"
    }
   ],
   "source": [
    "bivariate_analysis(file_new.Gender, file_new[\"No-show\"], 10)    # analysis for Gender data\n",
    "plt.ylabel(\"probability\")\n",
    "plt.title(\"Probability of show / no show with respect to Gender\")"
   ]
  },
  {
   "cell_type": "markdown",
   "id": "fac03a1d",
   "metadata": {},
   "source": [
    "#####  The probability of showing up even doesn't depend on the gender as depicted by the graph. The probability of showing up for both the genders is the same. "
   ]
  },
  {
   "cell_type": "code",
   "execution_count": 239,
   "id": "512bb970",
   "metadata": {
    "scrolled": false
   },
   "outputs": [
    {
     "name": "stdout",
     "output_type": "stream",
     "text": [
      "(-0.001, 0.1]    99658\n",
      "(0.9, 1.0]       10861\n",
      "(0.1, 0.2]           0\n",
      "(0.2, 0.3]           0\n",
      "(0.3, 0.4]           0\n",
      "(0.4, 0.5]           0\n",
      "(0.5, 0.6]           0\n",
      "(0.6, 0.7]           0\n",
      "(0.7, 0.8]           0\n",
      "(0.8, 0.9]           0\n",
      "Name: Scholarship, dtype: int64\n"
     ]
    },
    {
     "data": {
      "text/plain": [
       "Text(0.5, 1.0, 'Probability of show / no show with respect to Scholarship')"
      ]
     },
     "execution_count": 239,
     "metadata": {},
     "output_type": "execute_result"
    },
    {
     "data": {
      "image/png": "[encoded data removed]",
      "text/plain": [
       "<Figure size 432x288 with 1 Axes>"
      ]
     },
     "metadata": {
      "needs_background": "light"
     },
     "output_type": "display_data"
    }
   ],
   "source": [
    "bivariate_analysis(file_new.Scholarship, file_new[\"No-show\"], 10)  # analysis for scholarship data\n",
    "plt.ylabel(\"probability\")\n",
    "plt.title(\"Probability of show / no show with respect to Scholarship\")"
   ]
  },
  {
   "cell_type": "markdown",
   "id": "26f80a51",
   "metadata": {},
   "source": [
    "#####  The probability of showing up even doesn't depend on the Scholarship as depicted by the graph. The probability of showing up in both the cases seem similar. Moreover, there is not much information provided about this -> therefore, the feature engineering is also not possible "
   ]
  },
  {
   "cell_type": "markdown",
   "id": "552293e0",
   "metadata": {},
   "source": [
    "### Days_to_Appointment as a factor for Show up / No Show Up\n"
   ]
  },
  {
   "cell_type": "code",
   "execution_count": 240,
   "id": "7f5cbef3",
   "metadata": {},
   "outputs": [
    {
     "data": {
      "text/plain": [
       "Text(0.5, 1.0, 'Disctribution of Neighborhood')"
      ]
     },
     "execution_count": 240,
     "metadata": {},
     "output_type": "execute_result"
    },
    {
     "data": {
      "image/png": "[encoded data removed]",
      "text/plain": [
       "<Figure size 360x360 with 1 Axes>"
      ]
     },
     "metadata": {
      "needs_background": "light"
     },
     "output_type": "display_data"
    }
   ],
   "source": [
    "sns.displot(file_new.Neighbourhood)   # dispolot to see the frequency of neighbourhood data\n",
    "plt.title(\"Disctribution of Neighborhood\")"
   ]
  },
  {
   "cell_type": "code",
   "execution_count": 247,
   "id": "287cf05d",
   "metadata": {
    "scrolled": false
   },
   "outputs": [
    {
     "name": "stdout",
     "output_type": "stream",
     "text": [
      "(20.0, 21.0]    7717\n",
      "(21.0, 22.0]    5804\n",
      "(-0.08, 1.0]    4521\n",
      "(24.0, 25.0]    4431\n",
      "(33.0, 34.0]    3514\n",
      "                ... \n",
      "(74.0, 75.0]      35\n",
      "(45.0, 46.0]      10\n",
      "(77.0, 78.0]       8\n",
      "(78.0, 79.0]       2\n",
      "(79.0, 80.0]       1\n",
      "Name: Neighbourhood, Length: 80, dtype: int64\n",
      "Note-> the bins can be reduced in case the x label is not clear\n"
     ]
    },
    {
     "data": {
      "image/png": "[encoded data removed]",
      "text/plain": [
       "<Figure size 432x288 with 1 Axes>"
      ]
     },
     "metadata": {
      "needs_background": "light"
     },
     "output_type": "display_data"
    }
   ],
   "source": [
    "\n",
    "bivariate_analysis(file_new.Neighbourhood, file_new[\"No-show\"], 80)  # comaprison with the No show feature \n",
    "plt.ylabel(\"probability\")\n",
    "plt.title(\"Probability of show / no show with respect to Neighborhood\")\n",
    "print(\"Note-> the bins can be reduced in case the x label is not clear\")"
   ]
  },
  {
   "cell_type": "markdown",
   "id": "c354b666",
   "metadata": {},
   "source": [
    "##### There is not much variability in data as all the cities show similar results for Show up and No show up. But let us go through the probability numbers as well"
   ]
  },
  {
   "cell_type": "code",
   "execution_count": 248,
   "id": "084f656a",
   "metadata": {},
   "outputs": [],
   "source": [
    "prob_show_neigh = [0]*81   # prob show app size is one greater than the maximum number in days_to_appointment i.e 179\n",
    "prob_no_show_neigh = [0]*81\n",
    "for i, j in file_new.iterrows():\n",
    "    if (j[\"No-show\"]) == 0:\n",
    "        prob_show_neigh[j.Neighbourhood]+= 1\n",
    "    else:\n",
    "        prob_no_show_neigh[j.Neighbourhood]+=1"
   ]
  },
  {
   "cell_type": "code",
   "execution_count": 249,
   "id": "9faac2db",
   "metadata": {
    "scrolled": true
   },
   "outputs": [
    {
     "data": {
      "text/plain": [
       "[83.72452927521279,\n",
       " 82.91925465838509,\n",
       " 82.6086956521739,\n",
       " 82.87425149700599,\n",
       " 80.42857142857143,\n",
       " 77.0593445527015,\n",
       " 81.13207547169812,\n",
       " 82.24381625441696,\n",
       " 80.64952638700947,\n",
       " 81.70498084291188,\n",
       " 77.50582750582751,\n",
       " 78.9624183006536,\n",
       " 84.15841584158416,\n",
       " 80.22875816993465,\n",
       " 77.70767613038907,\n",
       " 79.73856209150327,\n",
       " 80.05559416261293,\n",
       " 78.05788982259571,\n",
       " 80.24115130299494,\n",
       " 85.28784648187633,\n",
       " 80.16588532275513,\n",
       " 81.01593883633537,\n",
       " 78.9972432804962,\n",
       " 82.02471104025508,\n",
       " 81.54981549815497,\n",
       " 79.55314827352741,\n",
       " 80.84880636604774,\n",
       " 80.835734870317,\n",
       " 79.85436893203884,\n",
       " 85.44474393530997,\n",
       " 82.37436270939548,\n",
       " 79.86366019926587,\n",
       " 77.17391304347827,\n",
       " 79.21348314606742,\n",
       " 73.73363688104723,\n",
       " 80.88930936613056,\n",
       " 78.94736842105263,\n",
       " 78.34008097165992,\n",
       " 82.29233741146169,\n",
       " 73.51778656126481,\n",
       " 78.91421715656868,\n",
       " 77.68079800498752,\n",
       " 77.72397094430993,\n",
       " 71.08150470219435,\n",
       " 76.95906432748538,\n",
       " 78.01418439716312,\n",
       " 80.0,\n",
       " 77.40336967294351,\n",
       " 81.92011212333567,\n",
       " 82.77616279069767,\n",
       " 81.64251207729468,\n",
       " 81.41025641025641,\n",
       " 83.33333333333334,\n",
       " 82.00934579439252,\n",
       " 80.36529680365297,\n",
       " 78.4869976359338,\n",
       " 80.29739776951673,\n",
       " 81.68343038644785,\n",
       " 78.1524926686217,\n",
       " 77.87234042553192,\n",
       " 79.52468007312615,\n",
       " 80.53097345132744,\n",
       " 75.60462670872765,\n",
       " 79.57957957957959,\n",
       " 78.2546494992847,\n",
       " 76.522506619594,\n",
       " 78.59078590785907,\n",
       " 81.93548387096774,\n",
       " 72.54464285714286,\n",
       " 83.43125734430082,\n",
       " 84.59016393442623,\n",
       " 83.51001177856303,\n",
       " 84.28571428571429,\n",
       " 76.0,\n",
       " 80.6896551724138,\n",
       " 91.42857142857143,\n",
       " 81.3953488372093,\n",
       " 78.51851851851852,\n",
       " 87.5,\n",
       " 0.0,\n",
       " 100.0]"
      ]
     },
     "execution_count": 249,
     "metadata": {},
     "output_type": "execute_result"
    }
   ],
   "source": [
    "probability(prob_show_neigh, prob_no_show_neigh)"
   ]
  },
  {
   "cell_type": "markdown",
   "id": "0acfb33e",
   "metadata": {},
   "source": [
    "##### The proability distribution for the neighbourhood data is pretty similar for all the cities. They do not present any case for being correlated to No show data"
   ]
  },
  {
   "cell_type": "markdown",
   "id": "fb9a981f",
   "metadata": {},
   "source": [
    "### Part 3 Conclusion\n",
    "- We have analysed the Show/No show data where we saw that Age and Days to Appointment ( Scheduled Date - Appointment Date) play decent role in understanding with what probablility do they affect the No Show Status for a Patient.\n",
    "\n",
    "- People who **register for the same day appointment have the highest probabolity of ~94% to show for appointment**. The data is right skewed which means that mostly people register for appointment within 50 days of actual appointment. \n",
    "\n",
    "- Also, age is not a very significant factor. However, **people in the age group 0-1 yrs have the highest data for visiting a doctor and the probability based on age for showing up for any age is above 70%**\n",
    "\n",
    "- For other criterias like **Diabetes, Alcoholism, etc**, they do not play any role in determining when a patient would show up or not. \n",
    "\n"
   ]
  },
  {
   "cell_type": "markdown",
   "id": "df147847",
   "metadata": {},
   "source": [
    "##### Limitations of current exploration \n",
    "- Currently, we have not looked at the Days of the week for exploration which would play a good role in deciding whether patients like to show up during weekends or weekdays\n",
    "- we have just calculated simple probability for verifying the graph results and taking a deeper look into the probability numbers. However, we should consider calculating conditional probability / posterior proability to get a better idea.\n",
    "- Morevover, there hasn't been much information about some columns like Diabetes, Alcoholism, etc and therefore, no feature engnineering was possible. More information would have helped to find correlation between different columns/ features and that would have helped create better understanding of the data. \n"
   ]
  },
  {
   "cell_type": "code",
   "execution_count": null,
   "id": "a05a9d9f",
   "metadata": {},
   "outputs": [],
   "source": []
  }
 ],
 "metadata": {
  "kernelspec": {
   "display_name": "Python 3 (ipykernel)",
   "language": "python",
   "name": "python3"
  },
  "language_info": {
   "codemirror_mode": {
    "name": "ipython",
    "version": 3
   },
   "file_extension": ".py",
   "mimetype": "text/x-python",
   "name": "python",
   "nbconvert_exporter": "python",
   "pygments_lexer": "ipython3",
   "version": "3.9.12"
  }
 },
 "nbformat": 4,
 "nbformat_minor": 5
}
